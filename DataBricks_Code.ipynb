{
  "nbformat": 4,
  "nbformat_minor": 0,
  "metadata": {
    "colab": {
      "provenance": [],
      "gpuType": "T4"
    },
    "kernelspec": {
      "name": "python3",
      "display_name": "Python 3"
    },
    "language_info": {
      "name": "python"
    }
  },
  "cells": [
    {
      "cell_type": "code",
      "source": [
        "from google.colab import drive\n",
        "drive.mount('/content/drive')"
      ],
      "metadata": {
        "colab": {
          "base_uri": "https://localhost:8080/"
        },
        "id": "SaWKPd5cbuKp",
        "outputId": "240b87c4-c43b-43b3-d417-a50e24cfde4f"
      },
      "execution_count": null,
      "outputs": [
        {
          "output_type": "stream",
          "name": "stdout",
          "text": [
            "Mounted at /content/drive\n"
          ]
        }
      ]
    },
    {
      "cell_type": "markdown",
      "source": [
        "# Deriving dataframe with research article information\n",
        "\n",
        "\n",
        "\n",
        "*   Installed the `arxiv` module for web scraping\n",
        "*   Downloaded a list of professors at the University of North Carolina-Chapel Hill, North Carolina State University, and the University of North Carolina at Charlotte. \n",
        "*   Used the `arxiv` module to scrape research paper information from the list of professors described in the previous step. Due to issues with request limits while web scraping the arxiv API, we had to create three different dataframes, one for each school's professors.\n",
        "*   Combined the three individual dataframes into one collective dataframe consisting of 5 columns: the title, the date published, the arxiv ID, a summary, an arxiv URL, and the author name.\n",
        "\n",
        "\n"
      ],
      "metadata": {
        "id": "G5dvWLfpcypv"
      }
    },
    {
      "cell_type": "code",
      "source": [
        "!pip install arxiv"
      ],
      "metadata": {
        "colab": {
          "base_uri": "https://localhost:8080/"
        },
        "id": "YH7ZhtxHLHDd",
        "outputId": "90477013-58f0-434f-e6ae-362b7e20d6ba"
      },
      "execution_count": null,
      "outputs": [
        {
          "output_type": "stream",
          "name": "stdout",
          "text": [
            "Looking in indexes: https://pypi.org/simple, https://us-python.pkg.dev/colab-wheels/public/simple/\n",
            "Collecting arxiv\n",
            "  Downloading arxiv-1.4.7-py3-none-any.whl (12 kB)\n",
            "Collecting feedparser (from arxiv)\n",
            "  Downloading feedparser-6.0.10-py3-none-any.whl (81 kB)\n",
            "\u001b[2K     \u001b[90m━━━━━━━━━━━━━━━━━━━━━━━━━━━━━━━━━━━━━━━━\u001b[0m \u001b[32m81.1/81.1 kB\u001b[0m \u001b[31m3.1 MB/s\u001b[0m eta \u001b[36m0:00:00\u001b[0m\n",
            "\u001b[?25hCollecting sgmllib3k (from feedparser->arxiv)\n",
            "  Downloading sgmllib3k-1.0.0.tar.gz (5.8 kB)\n",
            "  Preparing metadata (setup.py) ... \u001b[?25l\u001b[?25hdone\n",
            "Building wheels for collected packages: sgmllib3k\n",
            "  Building wheel for sgmllib3k (setup.py) ... \u001b[?25l\u001b[?25hdone\n",
            "  Created wheel for sgmllib3k: filename=sgmllib3k-1.0.0-py3-none-any.whl size=6046 sha256=87f68e18eb703184c080a6a642c40b25df0238e91f99bb7d9ca1ae655d5a0f9c\n",
            "  Stored in directory: /root/.cache/pip/wheels/f0/69/93/a47e9d621be168e9e33c7ce60524393c0b92ae83cf6c6e89c5\n",
            "Successfully built sgmllib3k\n",
            "Installing collected packages: sgmllib3k, feedparser, arxiv\n",
            "Successfully installed arxiv-1.4.7 feedparser-6.0.10 sgmllib3k-1.0.0\n"
          ]
        }
      ]
    },
    {
      "cell_type": "code",
      "source": [
        "import arxiv\n",
        "import pandas as pd"
      ],
      "metadata": {
        "id": "AFCJOCgRcndf"
      },
      "execution_count": null,
      "outputs": []
    },
    {
      "cell_type": "markdown",
      "source": [
        "Creating the dataframe with the University of North Carolina at Chapel Hill (UNC-CH) professors data."
      ],
      "metadata": {
        "id": "_kNy8N9PeQO6"
      }
    },
    {
      "cell_type": "code",
      "source": [
        "# unc_list = [\"UNC-CH\"]\n",
        "# professors_df = pd.read_csv(\"/content/concise_professors.csv\").iloc[:, [0,1,2,6,8]].query('`INSTITUTION NAME` in @unc_list')\n",
        "# professors_df['Full Name'] = professors_df['FIRST NAME'] + \" \" + professors_df['LAST NAME']\n",
        "\n",
        "# column_names = ['Title','Date','Id','Summary','URL', 'Author']\n",
        "# unc_data = pd.DataFrame(columns=column_names)\n",
        "\n",
        "# for professor in professors_df['Full Name']:\n",
        "#   search = arxiv.Search(\n",
        "#     query = professor,\n",
        "#     max_results = 50,\n",
        "#     sort_by = arxiv.SortCriterion.Relevance,\n",
        "#     sort_order = arxiv.SortOrder.Descending\n",
        "#   )\n",
        "\n",
        "#   for result in search.results():\n",
        "#     authors = str(result.authors).strip().title()\n",
        "#     if professor.title() in authors:\n",
        "#       new_row = {'Title': result.title,\n",
        "#                 'Date': result.published,\n",
        "#                 'Id': result.entry_id,\n",
        "#                 'Summary': result.summary,\n",
        "#                 'URL': result.pdf_url,\n",
        "#                  'Author': professor}\n",
        "#       unc_data.loc[len(unc_data)] = new_row"
      ],
      "metadata": {
        "id": "nOqtvXWmeUI4"
      },
      "execution_count": null,
      "outputs": []
    },
    {
      "cell_type": "markdown",
      "source": [
        "Creating the dataframe with NC State University (NCSU) professors."
      ],
      "metadata": {
        "id": "Ss6HqxB6efQy"
      }
    },
    {
      "cell_type": "code",
      "source": [
        "# ncsu_list = [\"NCSU\"]\n",
        "# professors_df = pd.read_csv(\"/Professors.csv\").iloc[:, [0,1,2,6,8]].query('`INSTITUTION NAME` in @ncsu_list')\n",
        "# professors_df['Full Name'] = professors_df['FIRST NAME'] + \" \" + professors_df['LAST NAME']\n",
        "\n",
        "# column_names = ['Title','Date','Id','Summary','URL', 'Author']\n",
        "# ncsu_data = pd.DataFrame(columns=column_names)\n",
        "\n",
        "# for professor in professors_df.iloc[0:1, 5]:\n",
        "#   search = arxiv.Search(\n",
        "#     query = professor,\n",
        "#     max_results = 100,\n",
        "#     sort_by = arxiv.SortCriterion.Relevance,\n",
        "#     sort_order = arxiv.SortOrder.Descending\n",
        "#   )\n",
        "\n",
        "#   for result in search.results():\n",
        "#     authors = str(result.authors).strip().title()\n",
        "#     if professor.title() in authors:\n",
        "#       new_row = {'Title': result.title,\n",
        "#                 'Date': result.published,\n",
        "#                 'Id': result.entry_id,\n",
        "#                 'Summary': result.summary,\n",
        "#                 'URL': result.pdf_url,\n",
        "#                  'Author': professor}\n",
        "#       ncsu_data.loc[len(ncsu_data)] = new_row"
      ],
      "metadata": {
        "id": "ch09uX_3uoqV"
      },
      "execution_count": null,
      "outputs": []
    },
    {
      "cell_type": "markdown",
      "source": [
        "Creating the dataframe with the University of North Carolina at Charlotte (UNCC) professors."
      ],
      "metadata": {
        "id": "QUzYvgomezVu"
      }
    },
    {
      "cell_type": "code",
      "source": [
        "# uncc_list = [\"UNCC\"]\n",
        "# professors_df = pd.read_csv(\"/Professors.csv\").iloc[:, [0,1,2,6,8]].query('`INSTITUTION NAME` in @uncc_list')\n",
        "# professors_df['Full Name'] = professors_df['FIRST NAME'] + \" \" + professors_df['LAST NAME']\n",
        "\n",
        "# column_names = ['Title','Date','Id','Summary','URL', 'Author']\n",
        "# uncc_data = pd.DataFrame(columns=column_names)\n",
        "\n",
        "# for professor in professors_df.iloc[0:1, 5]:\n",
        "#   search = arxiv.Search(\n",
        "#     query = professor,\n",
        "#     max_results = 100,\n",
        "#     sort_by = arxiv.SortCriterion.Relevance,\n",
        "#     sort_order = arxiv.SortOrder.Descending\n",
        "#   )\n",
        "\n",
        "#   for result in search.results():\n",
        "#     authors = str(result.authors).strip().title()\n",
        "#     if professor.title() in authors:\n",
        "#       new_row = {'Title': result.title,\n",
        "#                 'Date': result.published,\n",
        "#                 'Id': result.entry_id,\n",
        "#                 'Summary': result.summary,\n",
        "#                 'URL': result.pdf_url,\n",
        "#                  'Author': professor}\n",
        "#       uncc_data.loc[len(uncc_data)] = new_row"
      ],
      "metadata": {
        "id": "OSxijzRLe4z3"
      },
      "execution_count": null,
      "outputs": []
    },
    {
      "cell_type": "markdown",
      "source": [
        "Combining the three tables for each individual university to have one large dataframe."
      ],
      "metadata": {
        "id": "kNX_ZTTgbDp4"
      }
    },
    {
      "cell_type": "code",
      "source": [
        "unc_data = pd.read_csv('/content/drive/MyDrive/Databricks Hackathon/final_UNC_data.csv')\n",
        "uncc_data = pd.read_csv('/content/drive/MyDrive/Databricks Hackathon/final_UNCC_data.csv')\n",
        "ncsu_data = pd.read_csv('/content/drive/MyDrive/Databricks Hackathon/final_NCSU_data.csv')"
      ],
      "metadata": {
        "id": "Lf9alKtdbQvj"
      },
      "execution_count": null,
      "outputs": []
    },
    {
      "cell_type": "code",
      "source": [
        "combined_data = pd.concat([unc_data, uncc_data, ncsu_data])\n",
        "combined_data.head()"
      ],
      "metadata": {
        "colab": {
          "base_uri": "https://localhost:8080/",
          "height": 372
        },
        "id": "xTyDKHQ9cZ69",
        "outputId": "cff07dc0-cfa3-466d-8af0-8a2dbd691013"
      },
      "execution_count": null,
      "outputs": [
        {
          "output_type": "execute_result",
          "data": {
            "text/plain": [
              "   Unnamed: 0                                              Title  \\\n",
              "0           0  Gene regulatory networks: a coarse-grained, eq...   \n",
              "1           1  Transient crosslinking kinetics optimize gene ...   \n",
              "2           2         Autonomous Medical Needle Steering In Vivo   \n",
              "3           3  Formalizing Piecewise Affine Activation Functi...   \n",
              "4           4         Autonomous Medical Needle Steering In Vivo   \n",
              "\n",
              "                        Date                                      Id  \\\n",
              "0  2005-08-17 19:01:47+00:00  http://arxiv.org/abs/physics/0508112v1   \n",
              "1  2018-09-18 20:50:21+00:00       http://arxiv.org/abs/1809.06928v3   \n",
              "2  2022-11-04 17:13:06+00:00       http://arxiv.org/abs/2211.02597v1   \n",
              "3  2023-01-30 13:53:52+00:00       http://arxiv.org/abs/2301.12893v1   \n",
              "4  2022-11-04 17:13:06+00:00       http://arxiv.org/abs/2211.02597v1   \n",
              "\n",
              "                                             Summary  \\\n",
              "0  We present computer-assisted methods for analy...   \n",
              "1  Our understanding of how chromosomes structura...   \n",
              "2  The use of needles to access sites within orga...   \n",
              "3  Verification of neural networks relies on acti...   \n",
              "4  The use of needles to access sites within orga...   \n",
              "\n",
              "                                      URL               Author  \n",
              "0  http://arxiv.org/pdf/physics/0508112v1  DAVID ADALSTEINSSON  \n",
              "1       http://arxiv.org/pdf/1809.06928v3  DAVID ADALSTEINSSON  \n",
              "2       http://arxiv.org/pdf/2211.02597v1        JASON AKULIAN  \n",
              "3       http://arxiv.org/pdf/2301.12893v1   ANDREI ALEKSANDROV  \n",
              "4       http://arxiv.org/pdf/2211.02597v1       RON ALTEROVITZ  "
            ],
            "text/html": [
              "\n",
              "  <div id=\"df-6aa02d98-16ec-4791-abb8-604351a62f66\">\n",
              "    <div class=\"colab-df-container\">\n",
              "      <div>\n",
              "<style scoped>\n",
              "    .dataframe tbody tr th:only-of-type {\n",
              "        vertical-align: middle;\n",
              "    }\n",
              "\n",
              "    .dataframe tbody tr th {\n",
              "        vertical-align: top;\n",
              "    }\n",
              "\n",
              "    .dataframe thead th {\n",
              "        text-align: right;\n",
              "    }\n",
              "</style>\n",
              "<table border=\"1\" class=\"dataframe\">\n",
              "  <thead>\n",
              "    <tr style=\"text-align: right;\">\n",
              "      <th></th>\n",
              "      <th>Unnamed: 0</th>\n",
              "      <th>Title</th>\n",
              "      <th>Date</th>\n",
              "      <th>Id</th>\n",
              "      <th>Summary</th>\n",
              "      <th>URL</th>\n",
              "      <th>Author</th>\n",
              "    </tr>\n",
              "  </thead>\n",
              "  <tbody>\n",
              "    <tr>\n",
              "      <th>0</th>\n",
              "      <td>0</td>\n",
              "      <td>Gene regulatory networks: a coarse-grained, eq...</td>\n",
              "      <td>2005-08-17 19:01:47+00:00</td>\n",
              "      <td>http://arxiv.org/abs/physics/0508112v1</td>\n",
              "      <td>We present computer-assisted methods for analy...</td>\n",
              "      <td>http://arxiv.org/pdf/physics/0508112v1</td>\n",
              "      <td>DAVID ADALSTEINSSON</td>\n",
              "    </tr>\n",
              "    <tr>\n",
              "      <th>1</th>\n",
              "      <td>1</td>\n",
              "      <td>Transient crosslinking kinetics optimize gene ...</td>\n",
              "      <td>2018-09-18 20:50:21+00:00</td>\n",
              "      <td>http://arxiv.org/abs/1809.06928v3</td>\n",
              "      <td>Our understanding of how chromosomes structura...</td>\n",
              "      <td>http://arxiv.org/pdf/1809.06928v3</td>\n",
              "      <td>DAVID ADALSTEINSSON</td>\n",
              "    </tr>\n",
              "    <tr>\n",
              "      <th>2</th>\n",
              "      <td>2</td>\n",
              "      <td>Autonomous Medical Needle Steering In Vivo</td>\n",
              "      <td>2022-11-04 17:13:06+00:00</td>\n",
              "      <td>http://arxiv.org/abs/2211.02597v1</td>\n",
              "      <td>The use of needles to access sites within orga...</td>\n",
              "      <td>http://arxiv.org/pdf/2211.02597v1</td>\n",
              "      <td>JASON AKULIAN</td>\n",
              "    </tr>\n",
              "    <tr>\n",
              "      <th>3</th>\n",
              "      <td>3</td>\n",
              "      <td>Formalizing Piecewise Affine Activation Functi...</td>\n",
              "      <td>2023-01-30 13:53:52+00:00</td>\n",
              "      <td>http://arxiv.org/abs/2301.12893v1</td>\n",
              "      <td>Verification of neural networks relies on acti...</td>\n",
              "      <td>http://arxiv.org/pdf/2301.12893v1</td>\n",
              "      <td>ANDREI ALEKSANDROV</td>\n",
              "    </tr>\n",
              "    <tr>\n",
              "      <th>4</th>\n",
              "      <td>4</td>\n",
              "      <td>Autonomous Medical Needle Steering In Vivo</td>\n",
              "      <td>2022-11-04 17:13:06+00:00</td>\n",
              "      <td>http://arxiv.org/abs/2211.02597v1</td>\n",
              "      <td>The use of needles to access sites within orga...</td>\n",
              "      <td>http://arxiv.org/pdf/2211.02597v1</td>\n",
              "      <td>RON ALTEROVITZ</td>\n",
              "    </tr>\n",
              "  </tbody>\n",
              "</table>\n",
              "</div>\n",
              "      <button class=\"colab-df-convert\" onclick=\"convertToInteractive('df-6aa02d98-16ec-4791-abb8-604351a62f66')\"\n",
              "              title=\"Convert this dataframe to an interactive table.\"\n",
              "              style=\"display:none;\">\n",
              "        \n",
              "  <svg xmlns=\"http://www.w3.org/2000/svg\" height=\"24px\"viewBox=\"0 0 24 24\"\n",
              "       width=\"24px\">\n",
              "    <path d=\"M0 0h24v24H0V0z\" fill=\"none\"/>\n",
              "    <path d=\"M18.56 5.44l.94 2.06.94-2.06 2.06-.94-2.06-.94-.94-2.06-.94 2.06-2.06.94zm-11 1L8.5 8.5l.94-2.06 2.06-.94-2.06-.94L8.5 2.5l-.94 2.06-2.06.94zm10 10l.94 2.06.94-2.06 2.06-.94-2.06-.94-.94-2.06-.94 2.06-2.06.94z\"/><path d=\"M17.41 7.96l-1.37-1.37c-.4-.4-.92-.59-1.43-.59-.52 0-1.04.2-1.43.59L10.3 9.45l-7.72 7.72c-.78.78-.78 2.05 0 2.83L4 21.41c.39.39.9.59 1.41.59.51 0 1.02-.2 1.41-.59l7.78-7.78 2.81-2.81c.8-.78.8-2.07 0-2.86zM5.41 20L4 18.59l7.72-7.72 1.47 1.35L5.41 20z\"/>\n",
              "  </svg>\n",
              "      </button>\n",
              "      \n",
              "  <style>\n",
              "    .colab-df-container {\n",
              "      display:flex;\n",
              "      flex-wrap:wrap;\n",
              "      gap: 12px;\n",
              "    }\n",
              "\n",
              "    .colab-df-convert {\n",
              "      background-color: #E8F0FE;\n",
              "      border: none;\n",
              "      border-radius: 50%;\n",
              "      cursor: pointer;\n",
              "      display: none;\n",
              "      fill: #1967D2;\n",
              "      height: 32px;\n",
              "      padding: 0 0 0 0;\n",
              "      width: 32px;\n",
              "    }\n",
              "\n",
              "    .colab-df-convert:hover {\n",
              "      background-color: #E2EBFA;\n",
              "      box-shadow: 0px 1px 2px rgba(60, 64, 67, 0.3), 0px 1px 3px 1px rgba(60, 64, 67, 0.15);\n",
              "      fill: #174EA6;\n",
              "    }\n",
              "\n",
              "    [theme=dark] .colab-df-convert {\n",
              "      background-color: #3B4455;\n",
              "      fill: #D2E3FC;\n",
              "    }\n",
              "\n",
              "    [theme=dark] .colab-df-convert:hover {\n",
              "      background-color: #434B5C;\n",
              "      box-shadow: 0px 1px 3px 1px rgba(0, 0, 0, 0.15);\n",
              "      filter: drop-shadow(0px 1px 2px rgba(0, 0, 0, 0.3));\n",
              "      fill: #FFFFFF;\n",
              "    }\n",
              "  </style>\n",
              "\n",
              "      <script>\n",
              "        const buttonEl =\n",
              "          document.querySelector('#df-6aa02d98-16ec-4791-abb8-604351a62f66 button.colab-df-convert');\n",
              "        buttonEl.style.display =\n",
              "          google.colab.kernel.accessAllowed ? 'block' : 'none';\n",
              "\n",
              "        async function convertToInteractive(key) {\n",
              "          const element = document.querySelector('#df-6aa02d98-16ec-4791-abb8-604351a62f66');\n",
              "          const dataTable =\n",
              "            await google.colab.kernel.invokeFunction('convertToInteractive',\n",
              "                                                     [key], {});\n",
              "          if (!dataTable) return;\n",
              "\n",
              "          const docLinkHtml = 'Like what you see? Visit the ' +\n",
              "            '<a target=\"_blank\" href=https://colab.research.google.com/notebooks/data_table.ipynb>data table notebook</a>'\n",
              "            + ' to learn more about interactive tables.';\n",
              "          element.innerHTML = '';\n",
              "          dataTable['output_type'] = 'display_data';\n",
              "          await google.colab.output.renderOutput(dataTable, element);\n",
              "          const docLink = document.createElement('div');\n",
              "          docLink.innerHTML = docLinkHtml;\n",
              "          element.appendChild(docLink);\n",
              "        }\n",
              "      </script>\n",
              "    </div>\n",
              "  </div>\n",
              "  "
            ]
          },
          "metadata": {},
          "execution_count": 8
        }
      ]
    },
    {
      "cell_type": "code",
      "source": [
        "combined_data.to_csv('final_data.csv')"
      ],
      "metadata": {
        "id": "BZ81mN479rTf"
      },
      "execution_count": null,
      "outputs": []
    }
  ]
}